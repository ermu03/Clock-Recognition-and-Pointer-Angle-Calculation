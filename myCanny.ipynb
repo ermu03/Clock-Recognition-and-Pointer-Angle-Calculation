{
 "cells": [
  {
   "cell_type": "code",
   "execution_count": null,
   "id": "2765da97",
   "metadata": {},
   "outputs": [],
   "source": [
    "import numpy as np\n",
    "import cv2"
   ]
  },
  {
   "cell_type": "code",
   "execution_count": null,
   "id": "b122e518",
   "metadata": {},
   "outputs": [],
   "source": [
    "def to_grayscale(image):\n",
    "    \"\"\"\n",
    "    使用 OpenCV 将彩色图像转换为灰度图像\n",
    "    :param image: 输入的彩色图像 (H, W, 3)\n",
    "    :return: 灰度图像 (H, W)\n",
    "    \"\"\"\n",
    "    return cv2.cvtColor(image, cv2.COLOR_BGR2GRAY)"
   ]
  },
  {
   "cell_type": "code",
   "execution_count": null,
   "id": "a899eeab",
   "metadata": {},
   "outputs": [],
   "source": [
    "# 用高斯滤波器平滑图像\n",
    "def smooth(image, sigma = 1.4, length = 5):\n",
    "    \"\"\"\n",
    "    sigma:高斯滤波器标准差，控制平滑程度\n",
    "    length:高斯滤波器大小\n",
    "    \"\"\"\n",
    "    # Compute gaussian filter\n",
    "    k = length // 2\n",
    "    gaussian = np.zeros([length, length]) # length × length 二维数组, 存储高斯滤波器的权重\n",
    "    for i in range(length):\n",
    "        for j in range(length): \n",
    "            # (i-k) 和 (j-k) 表示当前点到滤波器中心的距离\n",
    "            gaussian[i, j] = np.exp(-((i-k) ** 2 + (j-k) ** 2) / (2 * sigma ** 2))\n",
    "    gaussian /= 2 * np.pi * sigma ** 2\n",
    "    # Batch Normalization\n",
    "    gaussian = gaussian / np.sum(gaussian) # 使滤波器的所有权重之和为 1: 为了保证滤波器不会改变图像的整体亮度\n",
    "\n",
    "    # Use Gaussian Filter\n",
    "    W, H = image.shape\n",
    "    new_image = np.zeros([W - k * 2, H - k * 2]) # 直接裁剪图片\n",
    "\n",
    "    for i in range(W - 2 * k):\n",
    "        for j in range(H - 2 * k):\n",
    "            new_image[i, j] = np.sum(image[i:i+length, j:j+length] * gaussian)\n",
    "\n",
    "    new_image = np.uint8(new_image) # 0-255, 超出范围就截断(取模)\n",
    "    return new_image"
   ]
  },
  {
   "cell_type": "code",
   "execution_count": null,
   "id": "b4e324f3",
   "metadata": {},
   "outputs": [],
   "source": [
    "# 计算梯度幅值和方向\n",
    "def get_gradient_and_direction(image):\n",
    "    Gx = np.array([[-1, 0, 1], [-2, 0, 2], [-1, 0, 1]])\n",
    "    Gy = np.array([[-1, -2, -1], [0, 0, 0], [1, 2, 1]])\n",
    "\n",
    "    W, H = image.shape\n",
    "    gradients = np.zeros([W - 2, H - 2])\n",
    "    direction = np.zeros([W - 2, H - 2])\n",
    "\n",
    "    for i in range(W - 2):\n",
    "        for j in range(H - 2):\n",
    "            dx = np.sum(image[i:i+3, j:j+3] * Gx)\n",
    "            dy = np.sum(image[i:i+3, j:j+3] * Gy)\n",
    "            gradients[i, j] = np.sqrt(dx ** 2 + dy ** 2)\n",
    "            if dx == 0:\n",
    "                direction[i, j] = np.pi / 2\n",
    "            else:\n",
    "                direction[i, j] = np.arctan(dy / dx)\n",
    "\n",
    "    gradients = np.uint8(gradients)\n",
    "\n",
    "    return gradients, direction"
   ]
  },
  {
   "cell_type": "code",
   "execution_count": null,
   "id": "6a195f29",
   "metadata": {},
   "outputs": [],
   "source": [
    "# 对梯度幅值进行非极大值抑制\n",
    "def NMS(gradients, direction):\n",
    "    \"\"\"\n",
    "    根据梯度方向，比较当前像素点与其梯度方向上的相邻像素点的梯度幅值。\n",
    "    如果当前像素点的梯度幅值不是局部最大值，则将其置为 0。\n",
    "    \"\"\"\n",
    "    W, H = gradients.shape\n",
    "    # 裁剪掉了边界的 1 像素（gradients[1:-1, 1:-1]），因为边界像素无法进行完整的梯度方向比较\n",
    "    nms = np.copy(gradients[1:-1, 1:-1]) # 存储非极大值抑制后的结果\n",
    "\n",
    "    for i in range(1, W - 1):\n",
    "        for j in range(1, H - 1):\n",
    "            theta = direction[i, j]\n",
    "            weight = np.tan(theta) # 计算梯度方向的斜率，用于插值计算。\n",
    "            # 根据梯度方向 theta，选择当前像素点梯度方向上的两个相邻像素点：\n",
    "              # d1 和 d2 表示梯度方向上的两个像素点的相对位置。\n",
    "              # 梯度方向被分为 4 个区间：\n",
    "                # 垂直方向（theta > π/4）：比较上下两个像素。\n",
    "                # 对角方向（0 ≤ theta ≤ π/4）：比较对角线方向的像素。\n",
    "                # 水平方向（-π/4 ≤ theta < 0）：比较左右两个像素。\n",
    "                # 反对角方向（theta < -π/4）：比较反对角线方向的像素。\n",
    "            \n",
    "            if theta > np.pi / 4:\n",
    "                d1 = [0, 1]\n",
    "                d2 = [1, 1]\n",
    "                weight = 1 / weight\n",
    "            elif theta >= 0:\n",
    "                d1 = [1, 0]\n",
    "                d2 = [1, 1]\n",
    "            elif theta >= - np.pi / 4:\n",
    "                d1 = [1, 0]\n",
    "                d2 = [1, -1]\n",
    "                weight *= -1\n",
    "            else:\n",
    "                d1 = [0, -1]\n",
    "                d2 = [1, -1]\n",
    "                weight = -1 / weight\n",
    "\n",
    "            g1 = gradients[i + d1[0], j + d1[1]]\n",
    "            g2 = gradients[i + d2[0], j + d2[1]]\n",
    "            g3 = gradients[i - d1[0], j - d1[1]]\n",
    "            g4 = gradients[i - d2[0], j - d2[1]]\n",
    "\n",
    "            grade_count1 = g1 * weight + g2 * (1 - weight)\n",
    "            grade_count2 = g3 * weight + g4 * (1 - weight)\n",
    "\n",
    "            if grade_count1 > gradients[i, j] or grade_count2 > gradients[i, j]:\n",
    "                nms[i - 1, j - 1] = 0\n",
    "            \n",
    "            return nms\n"
   ]
  },
  {
   "cell_type": "code",
   "execution_count": null,
   "id": "a8f8466a",
   "metadata": {},
   "outputs": [],
   "source": [
    "# 用双阈值算法检测\n",
    "def double_threshold(nms, threshold1, threshold2):\n",
    "    visited = np.zeros_like(nms)\n",
    "    output_image = nms.copy()\n",
    "    W, H = output_image.shape\n",
    "\n",
    "    def dfs(i, j):\n",
    "        if i >= W or i < 0 or j >= H or j < 0 or visited[i, j] == 1:\n",
    "            return\n",
    "        visited[i, j] = 1\n",
    "        if output_image[i, j] > threshold1: # 梯度值大于 threshold1，将其标记为强边缘（255）\n",
    "            output_image[i, j] = 255\n",
    "            # 递归检查(i, j)的 8 邻域的像素点\n",
    "            dfs(i-1, j-1) # Z 形遍历\n",
    "            dfs(i-1, j)\n",
    "            dfs(i-1, j+1)\n",
    "            dfs(i, j-1)\n",
    "            dfs(i, j+1)\n",
    "            dfs(i+1, j-1)\n",
    "            dfs(i+1, j)\n",
    "            dfs(i+1, j+1)\n",
    "        else:\n",
    "            output_image[i, j] = 0 # 梯度值小于等于 threshold1，将其标记为非边缘（0）\n",
    "\n",
    "    for w in range(W):\n",
    "        for h in range(H):\n",
    "            if visited[w, h] == 1:\n",
    "                continue\n",
    "            if output_image[w, h] >= threshold2: # 调用 dfs 将其标记为强边缘，并尝试连接弱边缘\n",
    "                dfs(w, h)\n",
    "            elif output_image[w, h] <= threshold1:\n",
    "                output_image[w, h] = 0\n",
    "                visited[w, h] = 1\n",
    "\n",
    "    # 清除未连接的弱边缘\n",
    "    for w in range(W):\n",
    "        for h in range(H):\n",
    "            if visited[w, h] == 0:\n",
    "                output_image[w, h] = 0 # 如果像素点未访问过，说明它是未连接的弱边缘，将其标记为非边缘（0）\n",
    "\n",
    "    return output_image"
   ]
  },
  {
   "cell_type": "code",
   "execution_count": null,
   "id": "7e773aaf",
   "metadata": {},
   "outputs": [],
   "source": [
    "# 用双阈值算法检测（非递归实现）\n",
    "def double_threshold_stack(nms, threshold1, threshold2):\n",
    "    visited = np.zeros_like(nms)\n",
    "    output_image = nms.copy()\n",
    "    W, H = output_image.shape\n",
    "\n",
    "    # 非递归实现的 DFS\n",
    "    def dfs_non_recursive(start_i, start_j):\n",
    "        stack = [(start_i, start_j)]  # 使用栈存储需要访问的像素点\n",
    "        while stack:\n",
    "            i, j = stack.pop()\n",
    "            if i < 0 or i >= W or j < 0 or j >= H or visited[i, j] == 1:\n",
    "                continue\n",
    "            visited[i, j] = 1\n",
    "            if output_image[i, j] > threshold1:  # 梯度值大于 threshold1，标记为强边缘\n",
    "                output_image[i, j] = 255\n",
    "                # 将 8 邻域的像素点加入栈\n",
    "                stack.append((i-1, j-1))\n",
    "                stack.append((i-1, j))\n",
    "                stack.append((i-1, j+1))\n",
    "                stack.append((i, j-1))\n",
    "                stack.append((i, j+1))\n",
    "                stack.append((i+1, j-1))\n",
    "                stack.append((i+1, j))\n",
    "                stack.append((i+1, j+1))\n",
    "            else:\n",
    "                output_image[i, j] = 0  # 梯度值小于等于 threshold1，标记为非边缘\n",
    "\n",
    "    # 遍历图像\n",
    "    for w in range(W):\n",
    "        for h in range(H):\n",
    "            if visited[w, h] == 1:\n",
    "                continue\n",
    "            if output_image[w, h] >= threshold2:  # 如果是强边缘，调用非递归 DFS\n",
    "                dfs_non_recursive(w, h)\n",
    "            elif output_image[w, h] <= threshold1:  # 如果是非边缘，直接标记为 0\n",
    "                output_image[w, h] = 0\n",
    "                visited[w, h] = 1\n",
    "\n",
    "    # 清除未连接的弱边缘\n",
    "    for w in range(W):\n",
    "        for h in range(H):\n",
    "            if visited[w, h] == 0:\n",
    "                output_image[w, h] = 0  # 未访问过的像素点标记为非边缘\n",
    "\n",
    "    return output_image"
   ]
  },
  {
   "cell_type": "markdown",
   "id": "244a21e9",
   "metadata": {},
   "source": [
    "### 运行"
   ]
  },
  {
   "cell_type": "code",
   "execution_count": null,
   "id": "0c80a3bf",
   "metadata": {},
   "outputs": [],
   "source": [
    "image = cv2.imread(\"./imgs/clock016.jpg\")\n",
    "# cv2.imshow(\"myImg\", image)\n",
    "# cv2.waitKey(0)\n",
    "# cv2.destroyAllWindows()"
   ]
  },
  {
   "cell_type": "code",
   "execution_count": null,
   "id": "79832095",
   "metadata": {},
   "outputs": [],
   "source": [
    "# print(type(image))\n",
    "# image "
   ]
  },
  {
   "cell_type": "code",
   "execution_count": null,
   "id": "f2858835",
   "metadata": {},
   "outputs": [],
   "source": [
    "# print(image.shape)  # 图像的形状 (高度, 宽度, 通道数)"
   ]
  },
  {
   "cell_type": "code",
   "execution_count": null,
   "id": "138a0817",
   "metadata": {},
   "outputs": [],
   "source": [
    "# 转灰度图像\n",
    "gray_image = to_grayscale(image)\n",
    "# print(type(gray_image))\n",
    "# print(gray_image.shape)\n",
    "# print(gray_image)"
   ]
  },
  {
   "cell_type": "code",
   "execution_count": null,
   "id": "922dffd3",
   "metadata": {},
   "outputs": [],
   "source": [
    "# 平滑处理\n",
    "smoothed_image = smooth(gray_image)\n",
    "# print(type(smoothed_image))\n",
    "# print(smoothed_image.shape)\n",
    "# print(smoothed_image)"
   ]
  },
  {
   "cell_type": "code",
   "execution_count": null,
   "id": "24f4ecda",
   "metadata": {},
   "outputs": [],
   "source": [
    "# 计算梯度和方向\n",
    "gradients, direction = get_gradient_and_direction(smoothed_image)"
   ]
  },
  {
   "cell_type": "code",
   "execution_count": null,
   "id": "60428040",
   "metadata": {},
   "outputs": [],
   "source": [
    "# print(gradients.shape)\n",
    "# gradients"
   ]
  },
  {
   "cell_type": "code",
   "execution_count": null,
   "id": "92c84159",
   "metadata": {},
   "outputs": [],
   "source": [
    "# print(direction.shape)\n",
    "# direction"
   ]
  },
  {
   "cell_type": "code",
   "execution_count": null,
   "id": "42a3954c",
   "metadata": {},
   "outputs": [],
   "source": [
    "# 非极大值抑制\n",
    "nms = NMS(gradients, direction)\n",
    "# print(nms.shape)\n",
    "# nms"
   ]
  },
  {
   "cell_type": "code",
   "execution_count": null,
   "id": "04b040b8",
   "metadata": {},
   "outputs": [],
   "source": [
    "# 双阈值算法检测\n",
    "\n",
    "output_image = double_threshold_stack(nms, 40, 100)"
   ]
  },
  {
   "cell_type": "code",
   "execution_count": null,
   "id": "9ace764d",
   "metadata": {},
   "outputs": [],
   "source": [
    "print(output_image.shape)\n",
    "output_image\n"
   ]
  },
  {
   "cell_type": "code",
   "execution_count": null,
   "id": "4b468eac",
   "metadata": {},
   "outputs": [],
   "source": [
    "import matplotlib.pyplot as plt\n",
    "\n",
    "plt.imshow(output_image, cmap='gray')  # 使用灰度图显示\n",
    "plt.title('Output Image')  # 设置标题\n",
    "plt.axis('off')  # 隐藏坐标轴\n",
    "plt.show()  # 显示图像"
   ]
  },
  {
   "cell_type": "markdown",
   "id": "ec6a7854",
   "metadata": {},
   "source": [
    "### 使用OpenCV自带函数"
   ]
  },
  {
   "cell_type": "code",
   "execution_count": null,
   "id": "4a242e2f",
   "metadata": {},
   "outputs": [],
   "source": [
    "# OpenCV自带函数 可以进行高斯平滑和canny算子\n",
    "image = cv2.GaussianBlur(image, (5,5), 0)\n",
    "canny = cv2.Canny(image, 50, 160)\n",
    "canny"
   ]
  },
  {
   "cell_type": "code",
   "execution_count": null,
   "id": "8900aeee",
   "metadata": {},
   "outputs": [],
   "source": [
    "plt.imshow(canny, cmap='gray')  # 使用灰度图显示\n",
    "plt.title('Output Image')  # 设置标题\n",
    "plt.axis('off')  # 隐藏坐标轴\n",
    "plt.show()  # 显示图像"
   ]
  },
  {
   "cell_type": "code",
   "execution_count": null,
   "id": "7dac6339",
   "metadata": {},
   "outputs": [],
   "source": []
  }
 ],
 "metadata": {
  "kernelspec": {
   "display_name": "ultralytics",
   "language": "python",
   "name": "python3"
  },
  "language_info": {
   "codemirror_mode": {
    "name": "ipython",
    "version": 3
   },
   "file_extension": ".py",
   "mimetype": "text/x-python",
   "name": "python",
   "nbconvert_exporter": "python",
   "pygments_lexer": "ipython3",
   "version": "3.9.21"
  }
 },
 "nbformat": 4,
 "nbformat_minor": 5
}
